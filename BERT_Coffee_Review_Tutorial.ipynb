{
 "cells": [
  {
   "cell_type": "markdown",
   "id": "28389237",
   "metadata": {},
   "source": [
    "# ☕ BERT ด้วย PyTorch สำหรับวิเคราะห์รีวิวกาแฟ\n",
    "\n",
    "ยินดีต้อนรับสู่บทเรียน PyTorch สำหรับการวิเคราะห์ความรู้สึกของรีวิวกาแฟด้วยโมเดล BERT! เราจะพาคุณเรียนรู้ตั้งแต่การโหลดข้อมูล เตรียมข้อความ ไปจนถึงการฝึกสอนและใช้งานโมเดล BERT บนรีวิวกาแฟจริงๆ\n",
    "\n",
    "---\n",
    "\n",
    "## 📘 บทนำ\n",
    "\n",
    "**PyTorch** เป็นเฟรมเวิร์ก Deep Learning ยอดนิยมจาก Meta (Facebook) ที่ใช้งานง่าย ยืดหยุ่น และเหมาะกับการทดลองโมเดลเชิงลึก โดยเฉพาะบน GPU ซึ่งในบทเรียนนี้ เราจะใช้ PyTorch ร่วมกับ Transformers (BERT) เพื่อวิเคราะห์ความรู้สึกจากรีวิวกาแฟของผู้บริโภค\n",
    "โมเดลที่เราเลือกใช้คือ **BERT (Bidirectional Encoder Representations from Transformers)** ซึ่งเป็นโมเดลภาษาเชิงลึกที่สามารถเข้าใจบริบทของคำในประโยคได้ทั้งสองทิศทาง ช่วยให้เข้าใจรีวิวที่มีภาษาซับซ้อน หรือคำบรรยายรสชาติได้อย่างแม่นยำ\n",
    "\n",
    "### 🧾 เกี่ยวกับ Dataset รีวิวกาแฟ\n",
    "\n",
    "ชุดข้อมูลนี้รวบรวมรีวิวกาแฟจากผู้ชิมมืออาชีพ ซึ่งประกอบด้วยข้อมูลหลายมิติ ทั้งคำบรรยายรส กลิ่น เนื้อสัมผัส รวมถึงคะแนนประเมินโดยรวม\n",
    "\n",
    "- 📝 คอลัมน์ข้อความรีวิว: เช่น \"Blind Assessment\", \"Notes\", \"Bottom Line\"\n",
    "- 🌟 คะแนน (Rating): ใช้เป็นเกณฑ์ในการแปลงเป็น sentiment (positive/negative)  \n",
    "- 🧠 เป้าหมายของเรา: สร้างโมเดลที่สามารถวิเคราะห์ข้อความรีวิว แล้วทำนายว่ารีวิวนั้นมี ความรู้สึกเชิงบวกหรือไม่\n",
    "\n",
    "🎯 ชุดข้อมูลนี้เหมาะสำหรับการฝึกทำ NLP เบื้องต้น โดยเฉพาะการนำโมเดล BERT มาประยุกต์ใช้งานจริงกับรีวิวที่มีความหมายหลากหลาย\n",
    "---\n",
    "\n",
    "## 🛠️ ขั้นตอนที่ 1: เตรียมสภาพแวดล้อม (Environment Setup)\n",
    "\n",
    "ก่อนเริ่มใช้งาน Jupyter Notebook และ PyTorch แนะนำให้สร้าง Python Environment แยกต่างหาก\n",
    "\n",
    "### 🔹 1. สร้าง Virtual Environment\n",
    "```bash\n",
    "python -m venv env-pytorch\n",
    "```\n",
    "\n",
    "### 🔹 2. เปิดใช้งาน Environment\n",
    "```bash\n",
    "source env-pytorch/bin/activate\n",
    "```\n",
    "\n",
    "### 🔹 3. ติดตั้ง Library ที่จำเป็น\n",
    "```bash\n",
    "pip install -r requirements.txt\n",
    "```\n",
    "\n",
    "### 🔹 4. เพิ่ม Environment นี้ให้ Jupyter ใช้งาน\n",
    "```bash\n",
    "python -m ipykernel install --user --name=env-pytorch --display-name \"Python (env-pytorch)\"\n",
    "```\n",
    "\n",
    "---\n",
    "\n",
    "## 🔄 ขั้นตอนที่ 2: เปิด Notebook และเลือก Kernel\n",
    "\n",
    "เมื่อเปิด Jupyter Notebook แล้ว:\n",
    "\n",
    "1. คลิกที่ชื่อ Kernel ปัจจุบัน (เช่น \"Python 3\") ที่มุมบนขวา\n",
    "![ipykernel](../image/kernel.png)\n",
    "\n",
    "3. เลือก Kernel ที่ชื่อ \"Python (env-pytorch)\" (ตามที่ตั้งไว้ในขั้นตอนก่อน)\n",
    "![select ](../image/pythroch.png)\n",
    "> 💡 หากยังไม่เห็นชื่อ Kernel นี้ ให้ลองปิด/เปิด Jupyter ใหม่ หรือเช็กคำสั่ง ipykernel อีกครั้ง\n",
    "\n",
    "---"
   ]
  },
  {
   "cell_type": "markdown",
   "id": "d11af778-03ee-446a-92e0-471d6fff739a",
   "metadata": {},
   "source": [
    "## 💻 ขั้นตอนที่ 3: เริ่มเขียนโค้ด PyTorch สำหรับ BERT"
   ]
  },
  {
   "cell_type": "markdown",
   "id": "358b0e98",
   "metadata": {},
   "source": [
    "## 📂 Cell 1: นำเข้าไลบรารีที่จำเป็น"
   ]
  },
  {
   "cell_type": "code",
   "execution_count": 24,
   "id": "23b2532e-06be-44bb-b154-e930e8a4b594",
   "metadata": {},
   "outputs": [],
   "source": [
    "import pandas as pd\n",
    "import numpy as np\n",
    "import torch\n",
    "from torch.utils.data import Dataset, DataLoader\n",
    "import torch.nn as nn\n",
    "from transformers import BertTokenizer, BertModel\n",
    "from sklearn.model_selection import train_test_split\n",
    "from sklearn.metrics import accuracy_score, classification_report\n",
    "import matplotlib.pyplot as plt\n",
    "from tqdm import tqdm\n",
    "import re"
   ]
  },
  {
   "cell_type": "markdown",
   "id": "1625a746-e8a8-4fcf-acbd-6350b5001070",
   "metadata": {},
   "source": [
    "## 📥 Cell 2: อ่านและตรวจสอบข้อมูล"
   ]
  },
  {
   "cell_type": "code",
   "execution_count": 25,
   "id": "9f18b96e",
   "metadata": {},
   "outputs": [
    {
     "name": "stdout",
     "output_type": "stream",
     "text": [
      "Step 1: Loading and exploring the dataset...\n",
      "Preview of the dataset:\n",
      "                                                 URL  Final Score  \\\n",
      "0  https://www.coffeereview.com/review/ecuador-la...         95.0   \n",
      "1  https://www.coffeereview.com/review/laos-xam-tai/         92.0   \n",
      "2  https://www.coffeereview.com/review/peru-churu...         94.0   \n",
      "3  https://www.coffeereview.com/review/colombia-b...         92.0   \n",
      "4  https://www.coffeereview.com/review/ethiopia-a...         95.0   \n",
      "\n",
      "          Roaster                 Coffee Name  \\\n",
      "0  Utopian Coffee  Ecuador La Papaya Pacamara   \n",
      "1  Utopian Coffee         Fort Wayne, Indiana   \n",
      "2  Utopian Coffee    Peru Churupampa Pacamara   \n",
      "3  Utopian Coffee      Colombia Bueasco Decaf   \n",
      "4  Utopian Coffee        Ethiopia Ayla Sidamo   \n",
      "\n",
      "                            Roaster Location  \\\n",
      "0                        Fort Wayne, Indiana   \n",
      "1  Xam Tai district, Houaphan province, Laos   \n",
      "2                        Fort Wayne, Indiana   \n",
      "3                        Fort Wayne, Indiana   \n",
      "4                        Fort Wayne, Indiana   \n",
      "\n",
      "                              Coffee Origin   Roast Level   Agtron  \\\n",
      "0                   Saraguro, Loja, Ecuador         Light    64/86   \n",
      "1                                       NaN         Light    62/80   \n",
      "2                     Jaén, Cajamarca, Peru  Medium-Light  \\t59/80   \n",
      "3               Nariño Department, Colombia  Medium-Light    52/71   \n",
      "4  Sidamo growing region, southern Ethiopia         Light    62/84   \n",
      "\n",
      "          Est. Price Review Date Aroma Acidity/Structure Body Flavor  \\\n",
      "0    $29.00/8 ounces    April-25     9                 9    9      9   \n",
      "1   $20.00/12 ounces    April-25     9                 8    8      9   \n",
      "2   $22.00/12 ounces    April-25     9                 9    9      9   \n",
      "3   $20.00/12 ounces    April-25     9                 8    8      9   \n",
      "4  $20.00/ 12 ounces    April-25     9                 9    9      9   \n",
      "\n",
      "   Aftertaste  With Milk                                   Blind Assessment  \\\n",
      "0         9.0        NaN  Intricate, richly sweet-savory. Apple cider, s...   \n",
      "1         8.0        NaN  Delicately sweet, gently herbaceous. Cocoa nib...   \n",
      "2         8.0        NaN  Balanced, deep-toned. Dark chocolate, praline,...   \n",
      "3         8.0        NaN  Very sweet, crisply cocoa-toned. Date, cocoa p...   \n",
      "4         9.0        NaN  Richly spice-toned, gently floral. Bergamot, h...   \n",
      "\n",
      "                                               Notes  \\\n",
      "0  Produced by Juan Peña of Hacienda La Papaya, e...   \n",
      "1  Produced by smallholding farmers, from trees o...   \n",
      "2  Produced at Finca Churupampa, entirely of the ...   \n",
      "3  Produced by smallholding farmers, entirely of ...   \n",
      "4  Produced by smallholding farmers, from trees o...   \n",
      "\n",
      "                                         Bottom Line  \n",
      "0  This Ecuador Pacamara natural delivers focused...  \n",
      "1  A rare find in the U.S.: an anaerobic honey-pr...  \n",
      "2  This nuance washed Peru ranges from a cookie-l...  \n",
      "3  A solid EA (ethyl acetate) Colombia decaf char...  \n",
      "4  This tea-like coffee is headily aromatic, deli...  \n",
      "\n",
      "Dataset information:\n",
      "<class 'pandas.core.frame.DataFrame'>\n",
      "RangeIndex: 8327 entries, 0 to 8326\n",
      "Data columns (total 19 columns):\n",
      " #   Column             Non-Null Count  Dtype  \n",
      "---  ------             --------------  -----  \n",
      " 0   URL                8327 non-null   object \n",
      " 1   Final Score        8323 non-null   float64\n",
      " 2   Roaster            8327 non-null   object \n",
      " 3   Coffee Name        8327 non-null   object \n",
      " 4   Roaster Location   8324 non-null   object \n",
      " 5   Coffee Origin      7821 non-null   object \n",
      " 6   Roast Level        7923 non-null   object \n",
      " 7   Agtron             8327 non-null   object \n",
      " 8   Est. Price         6289 non-null   object \n",
      " 9   Review Date        8327 non-null   object \n",
      " 10  Aroma              8264 non-null   object \n",
      " 11  Acidity/Structure  7039 non-null   object \n",
      " 12  Body               8315 non-null   object \n",
      " 13  Flavor             8311 non-null   object \n",
      " 14  Aftertaste         7456 non-null   float64\n",
      " 15  With Milk          1149 non-null   float64\n",
      " 16  Blind Assessment   8326 non-null   object \n",
      " 17  Notes              8325 non-null   object \n",
      " 18  Bottom Line        8271 non-null   object \n",
      "dtypes: float64(3), object(16)\n",
      "memory usage: 1.2+ MB\n",
      "None\n",
      "\n",
      "Basic statistics:\n",
      "       Final Score   Aftertaste    With Milk\n",
      "count  8323.000000  7456.000000  1149.000000\n",
      "mean     91.221074     8.000134     8.492602\n",
      "std       3.937496     0.701536     0.771434\n",
      "min      52.000000     2.000000     5.000000\n",
      "25%      90.000000     8.000000     8.000000\n",
      "50%      92.000000     8.000000     9.000000\n",
      "75%      94.000000     8.000000     9.000000\n",
      "max      98.000000    10.000000    10.000000\n",
      "\n",
      "Missing values in each column:\n",
      "URL                     0\n",
      "Final Score             4\n",
      "Roaster                 0\n",
      "Coffee Name             0\n",
      "Roaster Location        3\n",
      "Coffee Origin         506\n",
      "Roast Level           404\n",
      "Agtron                  0\n",
      "Est. Price           2038\n",
      "Review Date             0\n",
      "Aroma                  63\n",
      "Acidity/Structure    1288\n",
      "Body                   12\n",
      "Flavor                 16\n",
      "Aftertaste            871\n",
      "With Milk            7178\n",
      "Blind Assessment        1\n",
      "Notes                   2\n",
      "Bottom Line            56\n",
      "dtype: int64\n"
     ]
    }
   ],
   "source": [
    "# 1. อ่านและตรวจสอบข้อมูล\n",
    "# =====================\n",
    "print(\"Step 1: Loading and exploring the dataset...\")\n",
    "\n",
    "# อ่านข้อมูลจากไฟล์ CSV\n",
    "df = pd.read_csv('coffee_reviews.csv')\n",
    "\n",
    "# แสดงข้อมูล 5 แถวแรก\n",
    "print(\"Preview of the dataset:\")\n",
    "print(df.head())\n",
    "\n",
    "# ข้อมูลเกี่ยวกับ DataFrame\n",
    "print(\"\\nDataset information:\")\n",
    "print(df.info())\n",
    "\n",
    "# สถิติพื้นฐานของข้อมูล\n",
    "print(\"\\nBasic statistics:\")\n",
    "print(df.describe())\n",
    "\n",
    "# ตรวจสอบค่า missing values\n",
    "print(\"\\nMissing values in each column:\")\n",
    "print(df.isnull().sum())"
   ]
  },
  {
   "cell_type": "markdown",
   "id": "f42b6551",
   "metadata": {},
   "source": [
    "## 🧹 Cell 3: เตรียมข้อมูล"
   ]
  },
  {
   "cell_type": "code",
   "execution_count": 26,
   "id": "d50f8284",
   "metadata": {},
   "outputs": [
    {
     "name": "stdout",
     "output_type": "stream",
     "text": [
      "Available columns:\n",
      "['URL', 'Final Score', 'Roaster', 'Coffee Name', 'Roaster Location', 'Coffee Origin', 'Roast Level', 'Agtron', 'Est. Price', 'Review Date', 'Aroma', 'Acidity/Structure', 'Body', 'Flavor', 'Aftertaste', 'With Milk', 'Blind Assessment', 'Notes', 'Bottom Line']\n"
     ]
    }
   ],
   "source": [
    "# Check available columns\n",
    "print(\"Available columns:\")\n",
    "print(df.columns.tolist())\n",
    "# เลือกคอลัมน์ข้อความและคะแนน\n",
    "review_col = 'review' if 'review' in df.columns else ('review_text' if 'review_text' in df.columns else 'Blind Assessment')\n",
    "rating_col = 'rating' if 'rating' in df.columns else ('stars' if 'stars' in df.columns else 'Final Score')\n",
    "\n",
    "# รวมข้อความหลายคอลัมน์เข้าด้วยกัน\n",
    "df['combined_review'] = df['Blind Assessment'].fillna('') + ' ' + df['Notes'].fillna('') + ' ' + df['Bottom Line'].fillna('')\n",
    "review_col = 'combined_review'\n",
    "\n",
    "# แปลงคะแนนให้เป็น sentiment\n",
    "if df[rating_col].dtype == 'object':\n",
    "    df[rating_col] = df[rating_col].astype(float)\n",
    "\n",
    "df['sentiment'] = (df[rating_col] >= 90).astype(int)  # 1 = Positive, 0 = Negative"
   ]
  },
  {
   "cell_type": "markdown",
   "id": "3fa7321a",
   "metadata": {},
   "source": [
    "## ✨ Cell 4: ทำความสะอาดข้อความ (Text Cleaning)"
   ]
  },
  {
   "cell_type": "code",
   "execution_count": 27,
   "id": "18c27b4a",
   "metadata": {},
   "outputs": [
    {
     "name": "stdout",
     "output_type": "stream",
     "text": [
      "Example of cleaned reviews:\n",
      "Original: Intricate, richly sweet-savory. Apple cider, salted caramel, basil, freesia, graphite in aroma and c...\n",
      "Cleaned: intricate richly sweetsavory apple cider salted caramel basil freesia graphite in aroma and cup juic...\n",
      "\n",
      "Original: Delicately sweet, gently herbaceous. Cocoa nib, agave syrup, pansy, cedar, grapefruit in aroma and c...\n",
      "Cleaned: delicately sweet gently herbaceous cocoa nib agave syrup pansy cedar grapefruit in aroma and cup bri...\n",
      "\n",
      "Original: Balanced, deep-toned. Dark chocolate, praline, narcissus, tangerine, olive oil in aroma and cup. Spa...\n",
      "Cleaned: balanced deeptoned dark chocolate praline narcissus tangerine olive oil in aroma and cup sparkling a...\n",
      "\n"
     ]
    }
   ],
   "source": [
    "import re\n",
    "\n",
    "def clean_text(text):\n",
    "    if isinstance(text, str):\n",
    "        text = text.lower()\n",
    "        text = re.sub(r'http\\S+|www\\S+|https\\S+', '', text)\n",
    "        text = re.sub(r'[^\\w\\s]', '', text)\n",
    "        text = re.sub(r'\\d+', '', text)\n",
    "        text = re.sub(r'\\s+', ' ', text).strip()\n",
    "        return text\n",
    "    return \"\"\n",
    "\n",
    "# ใช้ฟังก์ชันกับคอลัมน์\n",
    "df['cleaned_review'] = df[review_col].apply(clean_text)\n",
    "\n",
    "# แสดงตัวอย่างข้อความที่ทำความสะอาดแล้ว\n",
    "print(\"Example of cleaned reviews:\")\n",
    "for i in range(min(3, len(df))):\n",
    "    print(f\"Original: {df[review_col].iloc[i][:100]}...\")\n",
    "    print(f\"Cleaned: {df['cleaned_review'].iloc[i][:100]}...\")\n",
    "    print()"
   ]
  },
  {
   "cell_type": "markdown",
   "id": "8274598d",
   "metadata": {},
   "source": [
    "## ✂️ Cell 5: แบ่งข้อมูลออกเป็นชุดฝึกและชุดทดสอบ"
   ]
  },
  {
   "cell_type": "code",
   "execution_count": 5,
   "id": "63d1430f",
   "metadata": {},
   "outputs": [
    {
     "name": "stdout",
     "output_type": "stream",
     "text": [
      "Training data size: 6661\n",
      "Testing data size: 1666\n"
     ]
    }
   ],
   "source": [
    "X_train, X_test, y_train, y_test = train_test_split(\n",
    "    df['cleaned_review'], \n",
    "    df['sentiment'], \n",
    "    test_size=0.2, \n",
    "    random_state=42,\n",
    "    stratify=df['sentiment']  # รักษาสัดส่วนของคลาสในชุดข้อมูล\n",
    ")\n",
    "\n",
    "print(f\"Training data size: {len(X_train)}\")\n",
    "print(f\"Testing data size: {len(X_test)}\")"
   ]
  },
  {
   "cell_type": "markdown",
   "id": "07684e00",
   "metadata": {},
   "source": [
    "## 📦 Cell 6: สร้าง Dataset และ DataLoader"
   ]
  },
  {
   "cell_type": "code",
   "execution_count": 6,
   "id": "f3da3296",
   "metadata": {},
   "outputs": [],
   "source": [
    "tokenizer = BertTokenizer.from_pretrained('bert-base-uncased')\n",
    "\n",
    "class CoffeeReviewDataset(Dataset):\n",
    "    def __init__(self, reviews, sentiments, tokenizer, max_length=128):\n",
    "        self.reviews = reviews\n",
    "        self.sentiments = sentiments\n",
    "        self.tokenizer = tokenizer\n",
    "        self.max_length = max_length\n",
    "        \n",
    "    def __len__(self):\n",
    "        return len(self.reviews)\n",
    "    \n",
    "    def __getitem__(self, idx):\n",
    "        review = str(self.reviews.iloc[idx])\n",
    "        sentiment = self.sentiments.iloc[idx]\n",
    "        \n",
    "        # Tokenize review\n",
    "        encoding = self.tokenizer.encode_plus(\n",
    "            review,\n",
    "            add_special_tokens=True,\n",
    "            max_length=self.max_length,\n",
    "            return_token_type_ids=False,\n",
    "            padding='max_length',\n",
    "            truncation=True,\n",
    "            return_attention_mask=True,\n",
    "            return_tensors='pt'\n",
    "        )\n",
    "        \n",
    "        return {\n",
    "            'review_text': review,\n",
    "            'input_ids': encoding['input_ids'].flatten(),\n",
    "            'attention_mask': encoding['attention_mask'].flatten(),\n",
    "            'sentiment': torch.tensor(sentiment, dtype=torch.long)\n",
    "        }\n",
    "\n",
    "# สร้าง Dataset\n",
    "train_dataset = CoffeeReviewDataset(X_train, y_train, tokenizer)\n",
    "test_dataset = CoffeeReviewDataset(X_test, y_test, tokenizer)\n",
    "\n",
    "# สร้าง DataLoader\n",
    "batch_size = 16\n",
    "train_loader = DataLoader(train_dataset, batch_size=batch_size, shuffle=True)\n",
    "test_loader = DataLoader(test_dataset, batch_size=batch_size)"
   ]
  },
  {
   "cell_type": "markdown",
   "id": "c6144731-4ac1-499b-b911-487baa4591d1",
   "metadata": {},
   "source": [
    "## 🧠 Cell 7: สร้างโมเดล BERT"
   ]
  },
  {
   "cell_type": "code",
   "execution_count": 7,
   "id": "70c68b5d-3600-4caa-84fb-c89d85b8999b",
   "metadata": {},
   "outputs": [],
   "source": [
    "class BERTSentimentClassifier(nn.Module):\n",
    "    def __init__(self, n_classes=2):\n",
    "        super(BERTSentimentClassifier, self).__init__()\n",
    "        self.bert = BertModel.from_pretrained('bert-base-uncased')\n",
    "        self.drop = nn.Dropout(p=0.3)\n",
    "        self.fc = nn.Linear(self.bert.config.hidden_size, n_classes)\n",
    "    \n",
    "    def forward(self, input_ids, attention_mask):\n",
    "        outputs = self.bert(\n",
    "            input_ids=input_ids,\n",
    "            attention_mask=attention_mask\n",
    "        )\n",
    "        # ใช้ [CLS] token representation\n",
    "        pooled_output = outputs.pooler_output\n",
    "        output = self.drop(pooled_output)\n",
    "        return self.fc(output)\n",
    "\n",
    "# สร้างโมเดล\n",
    "model = BERTSentimentClassifier()"
   ]
  },
  {
   "cell_type": "markdown",
   "id": "a4ecb8f4-43b0-479d-9647-f2d122d87545",
   "metadata": {},
   "source": [
    "## 🏋️ Cell 8: เทรนโมเดล"
   ]
  },
  {
   "cell_type": "code",
   "execution_count": 8,
   "id": "0383b652-c157-43ac-a8d4-f40e1859a560",
   "metadata": {},
   "outputs": [
    {
     "name": "stdout",
     "output_type": "stream",
     "text": [
      "Using device: cuda\n",
      "\n",
      "Epoch 1/3\n"
     ]
    },
    {
     "name": "stderr",
     "output_type": "stream",
     "text": [
      "Training: 100%|██████████| 417/417 [00:46<00:00,  8.96it/s]\n",
      "Evaluating: 100%|██████████| 105/105 [00:07<00:00, 13.62it/s]\n"
     ]
    },
    {
     "name": "stdout",
     "output_type": "stream",
     "text": [
      "Training Loss: 0.2540, Training Accuracy: 0.8952\n",
      "Validation Loss: 0.1701, Validation Accuracy: 0.9328\n",
      "\n",
      "Epoch 2/3\n"
     ]
    },
    {
     "name": "stderr",
     "output_type": "stream",
     "text": [
      "Training: 100%|██████████| 417/417 [00:46<00:00,  8.98it/s]\n",
      "Evaluating: 100%|██████████| 105/105 [00:07<00:00, 13.65it/s]\n"
     ]
    },
    {
     "name": "stdout",
     "output_type": "stream",
     "text": [
      "Training Loss: 0.1458, Training Accuracy: 0.9458\n",
      "Validation Loss: 0.1400, Validation Accuracy: 0.9400\n",
      "\n",
      "Epoch 3/3\n"
     ]
    },
    {
     "name": "stderr",
     "output_type": "stream",
     "text": [
      "Training: 100%|██████████| 417/417 [00:46<00:00,  8.97it/s]\n",
      "Evaluating: 100%|██████████| 105/105 [00:07<00:00, 13.56it/s]"
     ]
    },
    {
     "name": "stdout",
     "output_type": "stream",
     "text": [
      "Training Loss: 0.1009, Training Accuracy: 0.9625\n",
      "Validation Loss: 0.1528, Validation Accuracy: 0.9424\n"
     ]
    },
    {
     "name": "stderr",
     "output_type": "stream",
     "text": [
      "\n"
     ]
    }
   ],
   "source": [
    "# ตั้งค่าอุปกรณ์ (GPU หรือ CPU)\n",
    "device = torch.device('cuda' if torch.cuda.is_available() else 'cpu')\n",
    "print(f\"Using device: {device}\")\n",
    "\n",
    "model = model.to(device)\n",
    "\n",
    "# ตั้งค่า optimizer และ loss function\n",
    "optimizer = torch.optim.AdamW(model.parameters(), lr=2e-5)\n",
    "loss_fn = nn.CrossEntropyLoss()\n",
    "\n",
    "# ตัวแปรสำหรับเก็บประวัติการฝึกอบรม\n",
    "train_losses = []\n",
    "train_accs = []\n",
    "val_losses = []\n",
    "val_accs = []\n",
    "\n",
    "# ฝึกอบรมโมเดล\n",
    "epochs = 3\n",
    "for epoch in range(epochs):\n",
    "    # โหมดฝึกอบรม\n",
    "    model.train()\n",
    "    train_loss = 0\n",
    "    train_correct = 0\n",
    "    train_total = 0\n",
    "    \n",
    "    print(f\"\\nEpoch {epoch+1}/{epochs}\")\n",
    "    for batch in tqdm(train_loader, desc=\"Training\"):\n",
    "        input_ids = batch['input_ids'].to(device)\n",
    "        attention_mask = batch['attention_mask'].to(device)\n",
    "        sentiments = batch['sentiment'].to(device)\n",
    "        \n",
    "        # คำนวณการทำนาย\n",
    "        optimizer.zero_grad()\n",
    "        outputs = model(input_ids, attention_mask)\n",
    "        \n",
    "        # คำนวณค่าสูญเสีย\n",
    "        loss = loss_fn(outputs, sentiments)\n",
    "        train_loss += loss.item()\n",
    "        \n",
    "        # คำนวณความแม่นยำ\n",
    "        _, preds = torch.max(outputs, dim=1)\n",
    "        train_correct += torch.sum(preds == sentiments).item()\n",
    "        train_total += sentiments.size(0)\n",
    "        \n",
    "        # Backpropagation\n",
    "        loss.backward()\n",
    "        optimizer.step()\n",
    "    \n",
    "    # คำนวณค่าเฉลี่ยการสูญเสียและความแม่นยำของการฝึกอบรม\n",
    "    train_epoch_loss = train_loss / len(train_loader)\n",
    "    train_epoch_acc = train_correct / train_total\n",
    "    train_losses.append(train_epoch_loss)\n",
    "    train_accs.append(train_epoch_acc)\n",
    "    \n",
    "    # โหมดประเมินผล\n",
    "    model.eval()\n",
    "    val_loss = 0\n",
    "    val_correct = 0\n",
    "    val_total = 0\n",
    "    \n",
    "    with torch.no_grad():\n",
    "        for batch in tqdm(test_loader, desc=\"Evaluating\"):\n",
    "            input_ids = batch['input_ids'].to(device)\n",
    "            attention_mask = batch['attention_mask'].to(device)\n",
    "            sentiments = batch['sentiment'].to(device)\n",
    "            \n",
    "            # คำนวณการทำนาย\n",
    "            outputs = model(input_ids, attention_mask)\n",
    "            \n",
    "            # คำนวณค่าสูญเสีย\n",
    "            loss = loss_fn(outputs, sentiments)\n",
    "            val_loss += loss.item()\n",
    "            \n",
    "            # คำนวณความแม่นยำ\n",
    "            _, preds = torch.max(outputs, dim=1)\n",
    "            val_correct += torch.sum(preds == sentiments).item()\n",
    "            val_total += sentiments.size(0)\n",
    "    \n",
    "    # คำนวณค่าเฉลี่ยการสูญเสียและความแม่นยำของการประเมิน\n",
    "    val_epoch_loss = val_loss / len(test_loader)\n",
    "    val_epoch_acc = val_correct / val_total\n",
    "    val_losses.append(val_epoch_loss)\n",
    "    val_accs.append(val_epoch_acc)\n",
    "    \n",
    "    print(f\"Training Loss: {train_epoch_loss:.4f}, Training Accuracy: {train_epoch_acc:.4f}\")\n",
    "    print(f\"Validation Loss: {val_epoch_loss:.4f}, Validation Accuracy: {val_epoch_acc:.4f}\")"
   ]
  },
  {
   "cell_type": "markdown",
   "id": "dca86c27-4047-46ac-966c-c590c754cca7",
   "metadata": {},
   "source": [
    "## 👁️ Cell 9: ทำนายบนชุดข้อมูลทดสอบ"
   ]
  },
  {
   "cell_type": "code",
   "execution_count": 9,
   "id": "73d0117e-164d-4f22-8da9-bebd1389271a",
   "metadata": {},
   "outputs": [
    {
     "name": "stderr",
     "output_type": "stream",
     "text": [
      "Testing: 100%|██████████| 105/105 [00:07<00:00, 13.68it/s]"
     ]
    },
    {
     "name": "stdout",
     "output_type": "stream",
     "text": [
      "Test Accuracy: 0.9424\n",
      "\n",
      "Classification Report:\n",
      "              precision    recall  f1-score   support\n",
      "\n",
      "           0       0.86      0.86      0.86       341\n",
      "           1       0.96      0.96      0.96      1325\n",
      "\n",
      "    accuracy                           0.94      1666\n",
      "   macro avg       0.91      0.91      0.91      1666\n",
      "weighted avg       0.94      0.94      0.94      1666\n",
      "\n"
     ]
    },
    {
     "name": "stderr",
     "output_type": "stream",
     "text": [
      "\n"
     ]
    }
   ],
   "source": [
    "# ทำนายบนชุดข้อมูลทดสอบ\n",
    "model.eval()\n",
    "predictions = []\n",
    "true_labels = []\n",
    "\n",
    "with torch.no_grad():\n",
    "    for batch in tqdm(test_loader, desc=\"Testing\"):\n",
    "        input_ids = batch['input_ids'].to(device)\n",
    "        attention_mask = batch['attention_mask'].to(device)\n",
    "        sentiments = batch['sentiment'].to(device)\n",
    "        \n",
    "        outputs = model(input_ids, attention_mask)\n",
    "        _, preds = torch.max(outputs, dim=1)\n",
    "        \n",
    "        predictions.extend(preds.cpu().tolist())\n",
    "        true_labels.extend(sentiments.cpu().tolist())\n",
    "\n",
    "# คำนวณความแม่นยำและรายงานการจำแนก\n",
    "accuracy = accuracy_score(true_labels, predictions)\n",
    "report = classification_report(true_labels, predictions)\n",
    "\n",
    "print(f\"Test Accuracy: {accuracy:.4f}\")\n",
    "print(\"\\nClassification Report:\")\n",
    "print(report)"
   ]
  },
  {
   "cell_type": "markdown",
   "id": "eb877dd3-c4ad-4de6-bea2-774e1ac730f6",
   "metadata": {},
   "source": [
    "## 📈 Cell 10: ประเมินโมเดล"
   ]
  },
  {
   "cell_type": "code",
   "execution_count": 10,
   "id": "95da208e-1d84-409b-b381-5fd70d04ee47",
   "metadata": {},
   "outputs": [
    {
     "data": {
      "image/png": "[encoded data removed]",
      "text/plain": [
       "<Figure size 1200x500 with 2 Axes>"
      ]
     },
     "metadata": {},
     "output_type": "display_data"
    }
   ],
   "source": [
    "plt.figure(figsize=(12, 5))\n",
    "\n",
    "# กราฟความสูญเสีย\n",
    "plt.subplot(1, 2, 1)\n",
    "plt.plot(train_losses, label='Training Loss')\n",
    "plt.plot(val_losses, label='Validation Loss')\n",
    "plt.xlabel('Epoch')\n",
    "plt.ylabel('Loss')\n",
    "plt.title('Training and Validation Loss')\n",
    "plt.legend()\n",
    "\n",
    "# กราฟความแม่นยำ\n",
    "plt.subplot(1, 2, 2)\n",
    "plt.plot(train_accs, label='Training Accuracy')\n",
    "plt.plot(val_accs, label='Validation Accuracy')\n",
    "plt.xlabel('Epoch')\n",
    "plt.ylabel('Accuracy')\n",
    "plt.title('Training and Validation Accuracy')\n",
    "plt.legend()\n",
    "\n",
    "plt.tight_layout()\n",
    "plt.savefig('training_results.png')\n",
    "plt.show()"
   ]
  },
  {
   "cell_type": "markdown",
   "id": "a4638158-509c-4237-adfa-2817af570bba",
   "metadata": {},
   "source": [
    "## 💾 Cell 11: บันทึกโมเดล"
   ]
  },
  {
   "cell_type": "code",
   "execution_count": 11,
   "id": "08b9e888-fe86-4a5e-9470-ee64ff8d577f",
   "metadata": {},
   "outputs": [
    {
     "name": "stdout",
     "output_type": "stream",
     "text": [
      "Model saved as 'bert_coffee_sentiment_model.pt'\n"
     ]
    }
   ],
   "source": [
    "torch.save(model.state_dict(), 'bert_coffee_sentiment_model.pt')\n",
    "print(\"Model saved as 'bert_coffee_sentiment_model.pt'\")\n"
   ]
  },
  {
   "cell_type": "markdown",
   "id": "471615c1-cfb3-41b7-b92f-3855ce5c3ae5",
   "metadata": {},
   "source": [
    "## 💬 Cell 12: การใช้โมเดลเพื่อทำนายรีวิวใหม่"
   ]
  },
  {
   "cell_type": "code",
   "execution_count": 18,
   "id": "f62307f7-264a-4860-949f-8c31afa9c579",
   "metadata": {},
   "outputs": [
    {
     "name": "stdout",
     "output_type": "stream",
     "text": [
      "\n",
      "Example predictions:\n",
      "Review: Elegant, immersive, unique. Butterscotch, honeysuckle, cocoa nib, coconut, muscat grape, bergamot in aroma and cup. Layered, intense, sparkling acidity; very smooth, syrupy mouthfeel. Long, incense-like finish with notes of honeysuckle and bergamot and undertones of muscat and cocoa nib.\n",
      "Predicted sentiment: Positive\n",
      "\n",
      "Review: Terrible coffee, way too bitter and left a bad aftertaste. Would not recommend.\n",
      "Predicted sentiment: Negative\n",
      "\n"
     ]
    }
   ],
   "source": [
    "def predict_sentiment(review_text, model, tokenizer, device):\n",
    "    # ทำความสะอาดข้อความ\n",
    "    review_text = clean_text(review_text)\n",
    "    \n",
    "    # Tokenize\n",
    "    encoding = tokenizer.encode_plus(\n",
    "        review_text,\n",
    "        add_special_tokens=True,\n",
    "        max_length=128,\n",
    "        return_token_type_ids=False,\n",
    "        padding='max_length',\n",
    "        truncation=True,\n",
    "        return_attention_mask=True,\n",
    "        return_tensors='pt'\n",
    "    )\n",
    "    \n",
    "    # ย้ายไปยังอุปกรณ์ที่เหมาะสม\n",
    "    input_ids = encoding['input_ids'].to(device)\n",
    "    attention_mask = encoding['attention_mask'].to(device)\n",
    "    \n",
    "    # ทำนาย\n",
    "    model.eval()\n",
    "    with torch.no_grad():\n",
    "        outputs = model(input_ids, attention_mask)\n",
    "        _, preds = torch.max(outputs, dim=1)\n",
    "    \n",
    "    # แปลผลลัพธ์\n",
    "    sentiment = \"Positive\" if preds.item() == 1 else \"Negative\"\n",
    "    \n",
    "    return sentiment\n",
    "\n",
    "# ตัวอย่างการทำนาย (สามารถเปลื่ยนได้เพื่อจะนำนายจริง)\n",
    "example_reviews = [\n",
    "    \"Elegant, immersive, unique. Butterscotch, honeysuckle, cocoa nib, coconut, muscat grape, bergamot in aroma and cup. Layered, intense, sparkling acidity; very smooth, syrupy mouthfeel. Long, incense-like finish with notes of honeysuckle and bergamot and undertones of muscat and cocoa nib.\",\n",
    "    \"Terrible coffee, way too bitter and left a bad aftertaste. Would not recommend.\"\n",
    "]\n",
    "\n",
    "print(\"\\nExample predictions:\")\n",
    "for review in example_reviews:\n",
    "    sentiment = predict_sentiment(review, model, tokenizer, device)\n",
    "    print(f\"Review: {review}\")\n",
    "    print(f\"Predicted sentiment: {sentiment}\\n\")"
   ]
  },
  {
   "cell_type": "code",
   "execution_count": null,
   "id": "1ee99867-8710-4369-aa29-91d45369891d",
   "metadata": {},
   "outputs": [],
   "source": []
  }
 ],
 "metadata": {
  "kernelspec": {
   "display_name": "Python\n\t(env-new)",
   "language": "python",
   "name": "env-new"
  },
  "language_info": {
   "codemirror_mode": {
    "name": "ipython",
    "version": 3
   },
   "file_extension": ".py",
   "mimetype": "text/x-python",
   "name": "python",
   "nbconvert_exporter": "python",
   "pygments_lexer": "ipython3",
   "version": "3.11.9"
  }
 },
 "nbformat": 4,
 "nbformat_minor": 5
}
