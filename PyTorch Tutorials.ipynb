{
 "cells": [
  {
   "cell_type": "markdown",
   "id": "4862ed72-11f0-4b9c-8e14-1e4403fef8e2",
   "metadata": {},
   "source": [
    "# 🔥 PyTorch เบื้องต้น: จำแนกรูปภาพตัวเลข MNIST ด้วย Neural Network\n",
    "\n",
    "ยินดีต้อนรับสู่บทเรียน PyTorch สำหรับผู้เริ่มต้น! ใน Notebook นี้ เราจะพาคุณสร้างโมเดล Neural Network อย่างง่าย เพื่อจำแนกรูปภาพลายมือตัวเลขจาก MNIST dataset โดยใช้ PyTorch บน Jupyter Notebook (NECTEC environment หรือที่ใดก็ตามที่คุณใช้งานอยู่)\n",
    "\n",
    "---\n",
    "\n",
    "## 📘 บทนำ\n",
    "\n",
    "**PyTorch** เป็นเฟรมเวิร์ก Deep Learning ยอดนิยม ที่พัฒนาโดย Meta (Facebook) ซึ่งโดดเด่นเรื่องความยืดหยุ่นและใช้งานง่าย โดยเฉพาะในการทำงานกับ GPU และการทดลองโมเดลต่างๆ\n",
    "\n",
    "### 🧾 เกี่ยวกับ MNIST Dataset\n",
    "\n",
    "**MNIST** คือชุดข้อมูลรูปภาพลายมือตัวเลข 0-9 ขนาด 28x28 พิกเซล (grayscale) ซึ่งเป็นหนึ่งในชุดข้อมูลที่ได้รับความนิยมที่สุดในการฝึกฝนการเรียนรู้เชิงลึก (Deep Learning)\n",
    "\n",
    "- จำนวนภาพสำหรับฝึก (Train): 60,000 ภาพ  \n",
    "- จำนวนภาพสำหรับทดสอบ (Test): 10,000 ภาพ  \n",
    "- ขนาดแต่ละภาพ: 28x28 พิกเซล  \n",
    "- ช่องสี: ขาวดำ (1 channel)\n",
    "\n",
    "---\n",
    "\n",
    "## 🛠️ ขั้นตอนที่ 1: เตรียมสภาพแวดล้อม (Environment Setup)\n",
    "\n",
    "ก่อนเริ่มใช้งาน Jupyter Notebook และ PyTorch แนะนำให้สร้าง Python Environment แยกต่างหาก\n",
    "\n",
    "### 🔹 1. สร้าง Virtual Environment\n",
    "```bash\n",
    "python -m venv env-pytorch\n",
    "```\n",
    "\n",
    "### 🔹 2. เปิดใช้งาน Environment\n",
    "```bash\n",
    "source env-pytorch/bin/activate\n",
    "```\n",
    "\n",
    "### 🔹 3. ติดตั้ง Library ที่จำเป็น\n",
    "```bash\n",
    "pip install -r requirements.txt\n",
    "```\n",
    "\n",
    "### 🔹 4. เพิ่ม Environment นี้ให้ Jupyter ใช้งาน\n",
    "```bash\n",
    "python -m ipykernel install --user --name=env-pytorch --display-name \"Python (env-pytorch)\"\n",
    "```\n",
    "\n",
    "---\n",
    "\n",
    "## 🔄 ขั้นตอนที่ 2: เปิด Notebook และเลือก Kernel\n",
    "\n",
    "เมื่อเปิด Jupyter Notebook แล้ว:\n",
    "\n",
    "1. คลิกที่ชื่อ Kernel ปัจจุบัน (เช่น \"Python 3\") ที่มุมบนขวา\n",
    "![ipykernel](../image/kernel.png)\n",
    "\n",
    "3. เลือก Kernel ที่ชื่อ \"Python (env-pytorch)\" (ตามที่ตั้งไว้ในขั้นตอนก่อน)\n",
    "![select ](../image/pythroch.png)\n",
    "> 💡 หากยังไม่เห็นชื่อ Kernel นี้ ให้ลองปิด/เปิด Jupyter ใหม่ หรือเช็กคำสั่ง ipykernel อีกครั้ง\n",
    "\n",
    "---"
   ]
  },
  {
   "cell_type": "markdown",
   "id": "9c74b164-012a-42c0-9cc6-2630211755a7",
   "metadata": {},
   "source": [
    "## 💻 ขั้นตอนที่ 3: เริ่มเขียนโค้ด PyTorch สำหรับ MNIST\n",
    "\n",
    "จากนี้เราจะเริ่มสร้าง Neural Network ด้วย PyTorch เพื่อจำแนกรูปภาพตัวเลข MNIST กัน\n",
    "\n",
    "---\n"
   ]
  },
  {
   "cell_type": "markdown",
   "id": "604df871-4b4b-4f29-a225-0b96baedb29b",
   "metadata": {},
   "source": [
    "### 📦 Cell 1: Import Libraries\n",
    "\n",
    "เราจะเริ่มด้วยการนำเข้าไลบรารีที่จำเป็น:\n",
    "\n",
    "- `torch` และ `torchvision`: ใช้งาน PyTorch และชุดข้อมูล\n",
    "- `matplotlib`: สำหรับแสดงภาพ\n"
   ]
  },
  {
   "cell_type": "code",
   "execution_count": 3,
   "id": "7c9f3d07-8ece-4302-bf95-84f1a199f25b",
   "metadata": {},
   "outputs": [],
   "source": [
    "# 📦 นำเข้าไลบรารีที่จำเป็นสำหรับการทำงาน\n",
    "import torch\n",
    "import torch.nn as nn\n",
    "import torch.optim as optim\n",
    "import torchvision\n",
    "import torchvision.transforms as transforms\n",
    "import matplotlib.pyplot as plt\n",
    "import numpy as np"
   ]
  },
  {
   "cell_type": "markdown",
   "id": "6de2d689-4b32-4637-8476-4e114f6c2cf1",
   "metadata": {},
   "source": [
    "### 🔧 Cell 2: 📥 ดาวน์โหลดและเตรียมชุดข้อมูล MNIST"
   ]
  },
  {
   "cell_type": "code",
   "execution_count": 4,
   "id": "0cb2cf0b-4a80-4a9e-be43-6e2925374281",
   "metadata": {},
   "outputs": [
    {
     "name": "stderr",
     "output_type": "stream",
     "text": [
      "100%|██████████| 9.91M/9.91M [00:12<00:00, 815kB/s] \n",
      "100%|██████████| 28.9k/28.9k [00:00<00:00, 108kB/s]\n",
      "100%|██████████| 1.65M/1.65M [00:01<00:00, 1.02MB/s]\n",
      "100%|██████████| 4.54k/4.54k [00:00<00:00, 3.79MB/s]\n"
     ]
    }
   ],
   "source": [
    "# 📥 ดาวน์โหลดและเตรียมชุดข้อมูล MNIST\n",
    "# เราจะใช้ torchvision ที่ช่วยโหลดข้อมูลและแปลงข้อมูลได้ง่าย\n",
    "transform = transforms.Compose([\n",
    "    transforms.ToTensor(),                      # แปลงภาพให้เป็น Tensor\n",
    "    transforms.Normalize((0.5,), (0.5,))        # ปรับค่าพิกเซลให้อยู่ในช่วง [-1, 1]\n",
    "])\n",
    "\n",
    "# โหลดชุดข้อมูล MNIST สำหรับเทรนและทดสอบ\n",
    "trainset = torchvision.datasets.MNIST(root='./data', train=True, download=True, transform=transform)\n",
    "trainloader = torch.utils.data.DataLoader(trainset, batch_size=32, shuffle=True)\n",
    "\n",
    "testset = torchvision.datasets.MNIST(root='./data', train=False, download=True, transform=transform)\n",
    "testloader = torch.utils.data.DataLoader(testset, batch_size=32, shuffle=False)\n"
   ]
  },
  {
   "cell_type": "markdown",
   "id": "27bacb57-582e-45fc-806c-68e948a2dcf0",
   "metadata": {},
   "source": [
    "### 🔧 Cell 2: 🖼️ แสดงตัวอย่างภาพจากชุดข้อมูล"
   ]
  },
  {
   "cell_type": "code",
   "execution_count": 6,
   "id": "f8836465-e112-4c4e-ade4-2fc6ad1e763b",
   "metadata": {},
   "outputs": [
    {
     "data": {
      "image/png": "[encoded data removed]",
      "text/plain": [
       "<Figure size 640x480 with 1 Axes>"
      ]
     },
     "metadata": {},
     "output_type": "display_data"
    },
    {
     "name": "stdout",
     "output_type": "stream",
     "text": [
      "Labels: 2 9 6 7\n"
     ]
    }
   ],
   "source": [
    "# # 🖼️ แสดงตัวอย่างภาพจากชุดข้อมูล\n",
    "def imshow(img):\n",
    "    img = img / 2 + 0.5  # ย้อนค่าการ normalize กลับเป็นภาพปกติ\n",
    "    npimg = img.numpy()\n",
    "    plt.imshow(np.transpose(npimg, (1, 2, 0)))\n",
    "    plt.show()\n",
    "\n",
    "# ดึง batch แรกจาก dataloader\n",
    "dataiter = iter(trainloader)\n",
    "images, labels = next(dataiter)\n",
    "\n",
    "# แสดงภาพ 4 ภาพแรก\n",
    "imshow(torchvision.utils.make_grid(images[:4]))\n",
    "print(\"Labels:\", ' '.join(f'{labels[j].item()}' for j in range(4)))\n"
   ]
  },
  {
   "cell_type": "markdown",
   "id": "5b51f17a-8d12-44b0-818b-d3c5c0425003",
   "metadata": {},
   "source": [
    "### 🔧 Cell 3: 🧠 นิยามโครงสร้างของ Neural Network อย่างง่าย"
   ]
  },
  {
   "cell_type": "code",
   "execution_count": 7,
   "id": "c499186e-c937-4cf6-9de1-ca06058b932b",
   "metadata": {},
   "outputs": [],
   "source": [
    "# 🧠 นิยามโครงสร้างของ Neural Network อย่างง่าย\n",
    "class Net(nn.Module):\n",
    "    def __init__(self):\n",
    "        super(Net, self).__init__()\n",
    "        self.fc1 = nn.Linear(28 * 28, 128)  # ชั้น fully-connected แรก\n",
    "        self.fc2 = nn.Linear(128, 64)       # ชั้นที่สอง\n",
    "        self.fc3 = nn.Linear(64, 10)        # ชั้น output สำหรับจำแนก 10 หมวด\n",
    "\n",
    "    def forward(self, x):\n",
    "        x = x.view(-1, 28 * 28)             # แปลงภาพ 2D เป็น 1D\n",
    "        x = torch.relu(self.fc1(x))         # ใช้ ReLU activation\n",
    "        x = torch.relu(self.fc2(x))\n",
    "        x = self.fc3(x)                     # ไม่ใช้ softmax เพราะใช้ CrossEntropyLoss\n",
    "        return x\n",
    "\n",
    "net = Net()\n"
   ]
  },
  {
   "cell_type": "markdown",
   "id": "99130856-3384-4def-a76a-a20deed88ecb",
   "metadata": {},
   "source": [
    "### 🔧 Cell 4: ⚙️ นิยามฟังก์ชัน loss และ optimizer"
   ]
  },
  {
   "cell_type": "code",
   "execution_count": 8,
   "id": "3586b1dc-fa10-4642-84eb-0dd39148b6ed",
   "metadata": {},
   "outputs": [],
   "source": [
    "# ⚙️ นิยามฟังก์ชัน loss และ optimizer\n",
    "criterion = nn.CrossEntropyLoss()             # ใช้ cross-entropy สำหรับ classification\n",
    "optimizer = optim.SGD(net.parameters(), lr=0.01, momentum=0.9)\n"
   ]
  },
  {
   "cell_type": "markdown",
   "id": "1d916d26-1519-4634-a0de-5b47a2618eb2",
   "metadata": {},
   "source": [
    "### 🔧 Cell 5: 🚂 เทรนโมเดล Neural Network"
   ]
  },
  {
   "cell_type": "code",
   "execution_count": 9,
   "id": "8e51a0ae-e956-4f1d-8eb0-48a467620a7c",
   "metadata": {},
   "outputs": [
    {
     "name": "stdout",
     "output_type": "stream",
     "text": [
      "[Epoch 1, Batch 200] loss: 1.030\n",
      "[Epoch 1, Batch 400] loss: 0.420\n",
      "[Epoch 1, Batch 600] loss: 0.337\n",
      "[Epoch 1, Batch 800] loss: 0.298\n",
      "[Epoch 1, Batch 1000] loss: 0.279\n",
      "[Epoch 1, Batch 1200] loss: 0.247\n",
      "[Epoch 1, Batch 1400] loss: 0.220\n",
      "[Epoch 1, Batch 1600] loss: 0.223\n",
      "[Epoch 1, Batch 1800] loss: 0.199\n",
      "[Epoch 2, Batch 200] loss: 0.175\n",
      "[Epoch 2, Batch 400] loss: 0.173\n",
      "[Epoch 2, Batch 600] loss: 0.170\n",
      "[Epoch 2, Batch 800] loss: 0.177\n",
      "[Epoch 2, Batch 1000] loss: 0.155\n",
      "[Epoch 2, Batch 1200] loss: 0.143\n",
      "[Epoch 2, Batch 1400] loss: 0.168\n",
      "[Epoch 2, Batch 1600] loss: 0.145\n",
      "[Epoch 2, Batch 1800] loss: 0.147\n",
      "[Epoch 3, Batch 200] loss: 0.120\n",
      "[Epoch 3, Batch 400] loss: 0.122\n",
      "[Epoch 3, Batch 600] loss: 0.130\n",
      "[Epoch 3, Batch 800] loss: 0.127\n",
      "[Epoch 3, Batch 1000] loss: 0.130\n",
      "[Epoch 3, Batch 1200] loss: 0.112\n",
      "[Epoch 3, Batch 1400] loss: 0.111\n",
      "[Epoch 3, Batch 1600] loss: 0.116\n",
      "[Epoch 3, Batch 1800] loss: 0.120\n",
      "[Epoch 4, Batch 200] loss: 0.086\n",
      "[Epoch 4, Batch 400] loss: 0.089\n",
      "[Epoch 4, Batch 600] loss: 0.085\n",
      "[Epoch 4, Batch 800] loss: 0.109\n",
      "[Epoch 4, Batch 1000] loss: 0.099\n",
      "[Epoch 4, Batch 1200] loss: 0.100\n",
      "[Epoch 4, Batch 1400] loss: 0.091\n",
      "[Epoch 4, Batch 1600] loss: 0.099\n",
      "[Epoch 4, Batch 1800] loss: 0.089\n",
      "[Epoch 5, Batch 200] loss: 0.082\n",
      "[Epoch 5, Batch 400] loss: 0.073\n",
      "[Epoch 5, Batch 600] loss: 0.069\n",
      "[Epoch 5, Batch 800] loss: 0.082\n",
      "[Epoch 5, Batch 1000] loss: 0.078\n",
      "[Epoch 5, Batch 1200] loss: 0.103\n",
      "[Epoch 5, Batch 1400] loss: 0.092\n",
      "[Epoch 5, Batch 1600] loss: 0.091\n",
      "[Epoch 5, Batch 1800] loss: 0.092\n",
      "Finished Training ✅\n"
     ]
    }
   ],
   "source": [
    "# 🚂 เทรนโมเดล Neural Network\n",
    "for epoch in range(5):  # รันทั้งหมด 5 epoch\n",
    "    running_loss = 0.0\n",
    "    for i, data in enumerate(trainloader, 0):\n",
    "        inputs, labels = data\n",
    "\n",
    "        # รีเซ็ต gradient ก่อนทุกครั้ง\n",
    "        optimizer.zero_grad()\n",
    "\n",
    "        # forward + backward + update\n",
    "        outputs = net(inputs)\n",
    "        loss = criterion(outputs, labels)\n",
    "        loss.backward()\n",
    "        optimizer.step()\n",
    "\n",
    "        running_loss += loss.item()\n",
    "        if i % 200 == 199:    # แสดงผลทุก 200 mini-batches\n",
    "            print(f\"[Epoch {epoch + 1}, Batch {i + 1}] loss: {running_loss / 200:.3f}\")\n",
    "            running_loss = 0.0\n",
    "\n",
    "print(\"Finished Training ✅\")\n"
   ]
  },
  {
   "cell_type": "markdown",
   "id": "91b10411-c5b6-47b2-8f00-41f25f71766a",
   "metadata": {},
   "source": [
    "### 🔧 Cell 6: 💾 บันทึกโมเดลที่เทรนไว้"
   ]
  },
  {
   "cell_type": "code",
   "execution_count": 14,
   "id": "9456ed4b-33bb-4716-886c-e61bc948f703",
   "metadata": {},
   "outputs": [],
   "source": [
    "# 💾 บันทึกโมเดลที่เทรนไว้\n",
    "PATH = './mnist_net.pth'\n",
    "torch.save(net.state_dict(), PATH)\n"
   ]
  },
  {
   "cell_type": "markdown",
   "id": "b6f44d63-bf46-4c77-ab4b-6294740ff4fa",
   "metadata": {},
   "source": [
    "### 🔧 Cell 7: 🔁 โหลดโมเดลเพื่อใช้งานหรือทดสอบภายหลัง"
   ]
  },
  {
   "cell_type": "code",
   "execution_count": 15,
   "id": "462bcb91-a27e-4be2-bbe2-b098386b3293",
   "metadata": {},
   "outputs": [
    {
     "data": {
      "text/plain": [
       "<All keys matched successfully>"
      ]
     },
     "execution_count": 15,
     "metadata": {},
     "output_type": "execute_result"
    }
   ],
   "source": [
    "# 🔁 โหลดโมเดลเพื่อใช้งานหรือทดสอบภายหลัง\n",
    "net = Net()\n",
    "net.load_state_dict(torch.load(PATH))\n"
   ]
  },
  {
   "cell_type": "markdown",
   "id": "3414cc1a-8669-4c8c-9630-6418cab505df",
   "metadata": {},
   "source": [
    "### 🔧 Cell 8: 🧪 ทดสอบความแม่นยำของโมเดลบนชุดข้อมูลทดสอบ"
   ]
  },
  {
   "cell_type": "code",
   "execution_count": 16,
   "id": "8db70e3c-9431-47bd-a133-0ede8f7f2f75",
   "metadata": {},
   "outputs": [
    {
     "name": "stdout",
     "output_type": "stream",
     "text": [
      "Accuracy on 10000 test images: 97.20%\n"
     ]
    }
   ],
   "source": [
    "# 🧪 ทดสอบความแม่นยำของโมเดลบนชุดข้อมูลทดสอบ\n",
    "correct = 0\n",
    "total = 0\n",
    "with torch.no_grad():  # ไม่ต้องเก็บ gradient\n",
    "    for data in testloader:\n",
    "        images, labels = data\n",
    "        outputs = net(images)\n",
    "        _, predicted = torch.max(outputs.data, 1)\n",
    "        total += labels.size(0)\n",
    "        correct += (predicted == labels).sum().item()\n",
    "\n",
    "print(f\"Accuracy on 10000 test images: {100 * correct / total:.2f}%\")\n"
   ]
  },
  {
   "cell_type": "markdown",
   "id": "d137b29f-e573-4758-89e0-600dabfeec14",
   "metadata": {},
   "source": [
    "### 🔧 Cell 9: 👁️ แสดงภาพจาก test set พร้อม label และ prediction"
   ]
  },
  {
   "cell_type": "code",
   "execution_count": 17,
   "id": "713a9cb9-e1ae-4c5c-8032-e1a047e2cd4e",
   "metadata": {},
   "outputs": [
    {
     "data": {
      "image/png": "[encoded data removed]",
      "text/plain": [
       "<Figure size 640x480 with 1 Axes>"
      ]
     },
     "metadata": {},
     "output_type": "display_data"
    },
    {
     "name": "stdout",
     "output_type": "stream",
     "text": [
      "GroundTruth: 7 2 1 0\n",
      "Predicted  : 7 2 1 0\n"
     ]
    }
   ],
   "source": [
    "# 👁️ แสดงภาพจาก test set พร้อม label และ prediction\n",
    "dataiter = iter(testloader)\n",
    "images, labels = next(dataiter)\n",
    "outputs = net(images)\n",
    "\n",
    "# แสดงภาพแรก\n",
    "imshow(torchvision.utils.make_grid(images[:4]))\n",
    "_, predicted = torch.max(outputs, 1)\n",
    "print(\"GroundTruth:\", ' '.join(f'{labels[j].item()}' for j in range(4)))\n",
    "print(\"Predicted  :\", ' '.join(f'{predicted[j].item()}' for j in range(4)))\n"
   ]
  },
  {
   "cell_type": "code",
   "execution_count": null,
   "id": "e081e93c-3507-4a88-88a1-df9708c53978",
   "metadata": {},
   "outputs": [],
   "source": []
  }
 ],
 "metadata": {
  "kernelspec": {
   "display_name": "Python\n\t(env-new)",
   "language": "python",
   "name": "env-new"
  },
  "language_info": {
   "codemirror_mode": {
    "name": "ipython",
    "version": 3
   },
   "file_extension": ".py",
   "mimetype": "text/x-python",
   "name": "python",
   "nbconvert_exporter": "python",
   "pygments_lexer": "ipython3",
   "version": "3.11.9"
  }
 },
 "nbformat": 4,
 "nbformat_minor": 5
}
